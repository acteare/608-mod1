{
 "cells": [
  {
   "cell_type": "code",
   "execution_count": null,
   "id": "939fb4dc-5191-4dc2-b9c6-5d75275e222d",
   "metadata": {},
   "outputs": [],
   "source": [
    "45 + 72"
   ]
  },
  {
   "cell_type": "code",
   "execution_count": null,
   "id": "8ae8f145-449f-4081-a479-f775caa5e25d",
   "metadata": {},
   "outputs": [],
   "source": [
    "5 * (12.7-4) / 2"
   ]
  }
 ],
 "metadata": {
  "kernelspec": {
   "display_name": "Python 3 (ipykernel)",
   "language": "python",
   "name": "python3"
  },
  "language_info": {
   "codemirror_mode": {
    "name": "ipython",
    "version": 3
   },
   "file_extension": ".py",
   "mimetype": "text/x-python",
   "name": "python",
   "nbconvert_exporter": "python",
   "pygments_lexer": "ipython3",
   "version": "3.9.12"
  }
 },
 "nbformat": 4,
 "nbformat_minor": 5
}
