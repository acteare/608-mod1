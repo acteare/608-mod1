{
 "cells": [
  {
   "cell_type": "code",
   "execution_count": 1,
   "id": "583242e8-ac14-4bfe-bb2b-7b10098d86f2",
   "metadata": {},
   "outputs": [],
   "source": [
    "## Amelia Teare Bonus ##"
   ]
  },
  {
   "cell_type": "code",
   "execution_count": 2,
   "id": "c3352336-f6eb-41a4-9b7d-397e288fbf14",
   "metadata": {},
   "outputs": [],
   "source": [
    "## Using Min() and Max() Functions ##"
   ]
  },
  {
   "cell_type": "code",
   "execution_count": 3,
   "id": "3d82354f-58b5-4d68-aba4-7560029b52df",
   "metadata": {},
   "outputs": [
    {
     "data": {
      "text/plain": [
       "' Comparing integers using the built-in min and max Functions '"
      ]
     },
     "execution_count": 3,
     "metadata": {},
     "output_type": "execute_result"
    }
   ],
   "source": [
    "\"\"\" Comparing integers using the built-in min and max Functions \"\"\""
   ]
  },
  {
   "cell_type": "code",
   "execution_count": 4,
   "id": "ecd2bcab-ee18-42f3-af1e-dd32f0d00e7c",
   "metadata": {},
   "outputs": [
    {
     "name": "stdout",
     "output_type": "stream",
     "text": [
      "We are going to first find the smallest integer in a sequence of numbers\n"
     ]
    }
   ],
   "source": [
    "print('We are going to first find the smallest integer in a sequence of numbers')"
   ]
  },
  {
   "cell_type": "code",
   "execution_count": 5,
   "id": "c2052191-958e-4997-b7d8-2711178bf24b",
   "metadata": {},
   "outputs": [
    {
     "name": "stdout",
     "output_type": "stream",
     "text": [
      "To do this, we will use the min() built-in function\n"
     ]
    }
   ],
   "source": [
    "print('To do this, we will use the min() built-in function')"
   ]
  },
  {
   "cell_type": "code",
   "execution_count": 6,
   "id": "f62c4bba-f1f5-493b-a3d8-6d3a6508c823",
   "metadata": {},
   "outputs": [
    {
     "name": "stdout",
     "output_type": "stream",
     "text": [
      "Start by inputing the numbers you would like to compare within the parentheses of the built-in min() function\n"
     ]
    }
   ],
   "source": [
    "print('Start by inputing the numbers you would like to compare within the parentheses of the built-in min() function')"
   ]
  },
  {
   "cell_type": "code",
   "execution_count": 7,
   "id": "cc9ba808-3b63-436e-83e8-a737a3ea000a",
   "metadata": {},
   "outputs": [],
   "source": [
    "## Make sure the numbers you are comparing are separated by commas ##\n",
    " ## Example: min(45, 60, 29)##"
   ]
  },
  {
   "cell_type": "code",
   "execution_count": 8,
   "id": "8614c7e4-2af8-4c5c-92a1-6cd898a04ffd",
   "metadata": {},
   "outputs": [
    {
     "data": {
      "text/plain": [
       "29"
      ]
     },
     "execution_count": 8,
     "metadata": {},
     "output_type": "execute_result"
    }
   ],
   "source": [
    "min(45,60,29)"
   ]
  },
  {
   "cell_type": "code",
   "execution_count": 9,
   "id": "025af6b9-6a5d-484b-b955-0a4d33e64d19",
   "metadata": {},
   "outputs": [
    {
     "name": "stdout",
     "output_type": "stream",
     "text": [
      "Notice how the function found the smallest number within that sequence and printed it below the used function\n"
     ]
    }
   ],
   "source": [
    "print('Notice how the function found the smallest number within that sequence and printed it below the used function')"
   ]
  },
  {
   "cell_type": "code",
   "execution_count": null,
   "id": "3e7e2367-8c70-478b-a257-0a5b132e3919",
   "metadata": {},
   "outputs": [],
   "source": []
  },
  {
   "cell_type": "code",
   "execution_count": 10,
   "id": "3a9c777c-de30-4777-8458-ea8d90e47942",
   "metadata": {},
   "outputs": [
    {
     "name": "stdout",
     "output_type": "stream",
     "text": [
      "We are now going to find the largest integer in a sequence of numbers\n"
     ]
    }
   ],
   "source": [
    "print('We are now going to find the largest integer in a sequence of numbers')"
   ]
  },
  {
   "cell_type": "code",
   "execution_count": 11,
   "id": "64eb87ae-b039-4de1-93da-cd7afe45802a",
   "metadata": {},
   "outputs": [
    {
     "name": "stdout",
     "output_type": "stream",
     "text": [
      "To do this, we will use the max() built-in function\n"
     ]
    }
   ],
   "source": [
    "print('To do this, we will use the max() built-in function')"
   ]
  },
  {
   "cell_type": "code",
   "execution_count": 12,
   "id": "645bb148-6fe7-404f-90d1-324022e782a6",
   "metadata": {},
   "outputs": [
    {
     "name": "stdout",
     "output_type": "stream",
     "text": [
      "Again, you will input the numbers you would like to compare within the parentheses of the built-in max() funtion\n"
     ]
    }
   ],
   "source": [
    "print('Again, you will input the numbers you would like to compare within the parentheses of the built-in max() funtion')"
   ]
  },
  {
   "cell_type": "code",
   "execution_count": 13,
   "id": "a3c74e2f-6039-429d-ab98-5de8f48e7dbb",
   "metadata": {},
   "outputs": [],
   "source": [
    "## Make sure the numbers you are comparying are separated by commas ##\n",
    "    ## Example: max(45, 60, 29) ##"
   ]
  },
  {
   "cell_type": "code",
   "execution_count": 14,
   "id": "2f8667fd-118a-4454-8676-a450073b8581",
   "metadata": {},
   "outputs": [
    {
     "data": {
      "text/plain": [
       "60"
      ]
     },
     "execution_count": 14,
     "metadata": {},
     "output_type": "execute_result"
    }
   ],
   "source": [
    "max(45,60,29)"
   ]
  },
  {
   "cell_type": "code",
   "execution_count": 15,
   "id": "12ac6537-32c0-4be4-9771-34471a70c145",
   "metadata": {},
   "outputs": [
    {
     "name": "stdout",
     "output_type": "stream",
     "text": [
      "Notice how the fuction found the largest number within that sequence and printed it below the used function\n"
     ]
    }
   ],
   "source": [
    "print('Notice how the fuction found the largest number within that sequence and printed it below the used function')"
   ]
  },
  {
   "cell_type": "code",
   "execution_count": null,
   "id": "171078c4-a6a7-47be-95de-40ea342d5d53",
   "metadata": {},
   "outputs": [],
   "source": []
  },
  {
   "cell_type": "code",
   "execution_count": 16,
   "id": "140bf39c-1c4d-4f1a-89a1-600a967e6ee8",
   "metadata": {},
   "outputs": [
    {
     "name": "stdout",
     "output_type": "stream",
     "text": [
      "Remember, python is case sensitive. So Max() is different than max(). Ensure you are using lower case letters!\n"
     ]
    }
   ],
   "source": [
    "print('Remember, python is case sensitive. So Max() is different than max(). Ensure you are using lower case letters!')"
   ]
  }
 ],
 "metadata": {
  "kernelspec": {
   "display_name": "Python 3 (ipykernel)",
   "language": "python",
   "name": "python3"
  },
  "language_info": {
   "codemirror_mode": {
    "name": "ipython",
    "version": 3
   },
   "file_extension": ".py",
   "mimetype": "text/x-python",
   "name": "python",
   "nbconvert_exporter": "python",
   "pygments_lexer": "ipython3",
   "version": "3.9.12"
  }
 },
 "nbformat": 4,
 "nbformat_minor": 5
}
