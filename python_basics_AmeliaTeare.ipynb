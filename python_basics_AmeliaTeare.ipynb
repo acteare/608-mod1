{
 "cells": [
  {
   "cell_type": "code",
   "execution_count": null,
   "id": "27caa2bf-ebda-49a5-ad6c-43156d5c8ca0",
   "metadata": {},
   "outputs": [],
   "source": [
    "### Amelia Teare Project Notebook ###"
   ]
  },
  {
   "cell_type": "code",
   "execution_count": 1,
   "id": "cf42e08b-1962-412c-8686-3701a18cd664",
   "metadata": {},
   "outputs": [
    {
     "data": {
      "text/plain": [
       "7"
      ]
     },
     "execution_count": 1,
     "metadata": {},
     "output_type": "execute_result"
    }
   ],
   "source": [
    "min(8,7)"
   ]
  },
  {
   "cell_type": "code",
   "execution_count": 2,
   "id": "2a1084af-2f03-418d-a75d-9477d11a081f",
   "metadata": {},
   "outputs": [
    {
     "data": {
      "text/plain": [
       "12"
      ]
     },
     "execution_count": 2,
     "metadata": {},
     "output_type": "execute_result"
    }
   ],
   "source": [
    "max(8,7,12)"
   ]
  },
  {
   "cell_type": "code",
   "execution_count": 3,
   "id": "9a57ac34-52cf-46aa-a166-b4a373429d93",
   "metadata": {},
   "outputs": [
    {
     "data": {
      "text/plain": [
       "20"
      ]
     },
     "execution_count": 3,
     "metadata": {},
     "output_type": "execute_result"
    }
   ],
   "source": [
    "sum([1,5,8,2,4])"
   ]
  },
  {
   "cell_type": "code",
   "execution_count": 13,
   "id": "c1c05919-7e77-48ad-9055-ea88b5705366",
   "metadata": {},
   "outputs": [
    {
     "name": "stdout",
     "output_type": "stream",
     "text": [
      "0\n",
      "1\n",
      "2\n",
      "3\n",
      "4\n",
      "5\n",
      "6\n"
     ]
    }
   ],
   "source": [
    "x = range(7)\n",
    "for n in x:\n",
    "    print(n)"
   ]
  },
  {
   "cell_type": "code",
   "execution_count": 18,
   "id": "a833e95d-b061-4ef8-b5b2-8f7e870144e3",
   "metadata": {},
   "outputs": [
    {
     "data": {
      "text/plain": [
       "5"
      ]
     },
     "execution_count": 18,
     "metadata": {},
     "output_type": "execute_result"
    }
   ],
   "source": [
    "mylist = ([1,3,4,5,6])\n",
    "len(mylist)"
   ]
  },
  {
   "cell_type": "code",
   "execution_count": 20,
   "id": "50d0192b-91e7-4e2c-9d4e-5084aa65090d",
   "metadata": {},
   "outputs": [
    {
     "data": {
      "text/plain": [
       "19"
      ]
     },
     "execution_count": 20,
     "metadata": {},
     "output_type": "execute_result"
    }
   ],
   "source": [
    "sum(mylist)"
   ]
  },
  {
   "cell_type": "code",
   "execution_count": 19,
   "id": "13916978-3262-48ad-9314-c104a2c96c5b",
   "metadata": {},
   "outputs": [
    {
     "data": {
      "text/plain": [
       "3.8"
      ]
     },
     "execution_count": 19,
     "metadata": {},
     "output_type": "execute_result"
    }
   ],
   "source": [
    "sum(mylist) / len(mylist)"
   ]
  }
 ],
 "metadata": {
  "kernelspec": {
   "display_name": "Python 3 (ipykernel)",
   "language": "python",
   "name": "python3"
  },
  "language_info": {
   "codemirror_mode": {
    "name": "ipython",
    "version": 3
   },
   "file_extension": ".py",
   "mimetype": "text/x-python",
   "name": "python",
   "nbconvert_exporter": "python",
   "pygments_lexer": "ipython3",
   "version": "3.9.12"
  }
 },
 "nbformat": 4,
 "nbformat_minor": 5
}
