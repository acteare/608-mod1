{
 "cells": [
  {
   "cell_type": "code",
   "execution_count": 1,
   "id": "2c9b5789-91c7-40d0-892c-30fc9350d22d",
   "metadata": {},
   "outputs": [],
   "source": [
    "#calculate max number -- Amelia Teare"
   ]
  },
  {
   "cell_type": "code",
   "execution_count": 2,
   "id": "b8646254-e6a5-48a5-ae9f-42a556c22350",
   "metadata": {},
   "outputs": [
    {
     "data": {
      "text/plain": [
       "'Find the minimum of three values.'"
      ]
     },
     "execution_count": 2,
     "metadata": {},
     "output_type": "execute_result"
    }
   ],
   "source": [
    "\"\"\"Find the minimum of three values.\"\"\""
   ]
  },
  {
   "cell_type": "code",
   "execution_count": null,
   "id": "7373731d-054c-4800-ab9d-54962c895bd1",
   "metadata": {},
   "outputs": [],
   "source": []
  },
  {
   "cell_type": "code",
   "execution_count": 3,
   "id": "b7cba7d4-6e92-47d6-94a1-1781b7799935",
   "metadata": {},
   "outputs": [
    {
     "name": "stdin",
     "output_type": "stream",
     "text": [
      "Enter first integer:  77\n"
     ]
    }
   ],
   "source": [
    "number1 = int(input('Enter first integer: '))"
   ]
  },
  {
   "cell_type": "code",
   "execution_count": 4,
   "id": "cc00acbf-e293-4c15-bade-f085709587d4",
   "metadata": {},
   "outputs": [
    {
     "name": "stdin",
     "output_type": "stream",
     "text": [
      "Enter second integer:  71\n"
     ]
    }
   ],
   "source": [
    "number2 = int(input('Enter second integer: '))"
   ]
  },
  {
   "cell_type": "code",
   "execution_count": 5,
   "id": "fd5f2665-ca61-44c3-aab2-deca19fc0684",
   "metadata": {},
   "outputs": [
    {
     "name": "stdin",
     "output_type": "stream",
     "text": [
      "Enter third integer:  70\n"
     ]
    }
   ],
   "source": [
    "number3 = int(input('Enter third integer: '))"
   ]
  },
  {
   "cell_type": "code",
   "execution_count": null,
   "id": "51546004-8288-4067-b955-1380124f7dda",
   "metadata": {},
   "outputs": [],
   "source": []
  },
  {
   "cell_type": "code",
   "execution_count": 6,
   "id": "a691c458-f3ca-4780-b91d-7b8325f66475",
   "metadata": {},
   "outputs": [],
   "source": [
    "maximum = number1"
   ]
  },
  {
   "cell_type": "code",
   "execution_count": null,
   "id": "4876e63a-b82b-494e-801f-209ab05c5d18",
   "metadata": {},
   "outputs": [],
   "source": []
  },
  {
   "cell_type": "code",
   "execution_count": 7,
   "id": "312a4d75-8759-4ef1-89b2-f530b06751c7",
   "metadata": {},
   "outputs": [],
   "source": [
    "if number2>maximum:\n",
    "    maximum = number2"
   ]
  },
  {
   "cell_type": "code",
   "execution_count": 8,
   "id": "e2145dc4-4cfe-46cd-ab12-ee535804d8f2",
   "metadata": {},
   "outputs": [],
   "source": [
    "if number3>maximum:\n",
    "    maximum = number3"
   ]
  },
  {
   "cell_type": "code",
   "execution_count": null,
   "id": "57df4023-66ba-45a9-9e98-a2869c6cbaef",
   "metadata": {},
   "outputs": [],
   "source": []
  },
  {
   "cell_type": "code",
   "execution_count": 9,
   "id": "2e68e3e7-4756-4552-8533-34015a09d945",
   "metadata": {},
   "outputs": [
    {
     "name": "stdout",
     "output_type": "stream",
     "text": [
      "Maximum value is 77\n"
     ]
    }
   ],
   "source": [
    "print('Maximum value is', maximum)"
   ]
  }
 ],
 "metadata": {
  "kernelspec": {
   "display_name": "Python 3 (ipykernel)",
   "language": "python",
   "name": "python3"
  },
  "language_info": {
   "codemirror_mode": {
    "name": "ipython",
    "version": 3
   },
   "file_extension": ".py",
   "mimetype": "text/x-python",
   "name": "python",
   "nbconvert_exporter": "python",
   "pygments_lexer": "ipython3",
   "version": "3.9.12"
  }
 },
 "nbformat": 4,
 "nbformat_minor": 5
}
